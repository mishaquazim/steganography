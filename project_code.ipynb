{
  "nbformat": 4,
  "nbformat_minor": 0,
  "metadata": {
    "colab": {
      "provenance": [],
      "authorship_tag": "ABX9TyNZ++u9yzNpMu/ZE3r1qRIT"
    },
    "kernelspec": {
      "name": "python3",
      "display_name": "Python 3"
    },
    "language_info": {
      "name": "python"
    }
  },
  "cells": [
    {
      "cell_type": "code",
      "execution_count": null,
      "metadata": {
        "id": "z3PQRMg4RrEb"
      },
      "outputs": [],
      "source": [
        "pip install pillow"
      ]
    },
    {
      "cell_type": "code",
      "source": [
        "from PIL import Image"
      ],
      "metadata": {
        "id": "stBOFY7RRtP6"
      },
      "execution_count": null,
      "outputs": []
    },
    {
      "cell_type": "code",
      "source": [
        "def hide_text(image_path, secret_text, output_path):\n",
        "\t# Open the image\n",
        "\timage = Image.open(image_path)\n",
        "\n",
        "\t# Convert the secret text to binary\n",
        "\tbinary_secret_text = ''.join(format(ord(char), '08b') for char in secret_text)\n",
        "\n",
        "\t# Check if the image can accommodate the secret text\n",
        "\timage_capacity = image.width * image.height * 3\n",
        "\tif len(binary_secret_text) > image_capacity:\n",
        "\t\traise ValueError(\"Image does not have sufficient capacity to hide the secret text.\")\n",
        "\n",
        "\t# Hide the secret text in the image\n",
        "\tpixels = image.load()\n",
        "\tindex = 0\n",
        "\tfor i in range(image.width):\n",
        "\t\tfor j in range(image.height):\n",
        "\t\t\tr, g, b = pixels[i, j]\n",
        "\n",
        "\t\t\t# Modify the least significant bit of each color channel\n",
        "\t\t\tif index < len(binary_secret_text):\n",
        "\t\t\t\tr = (r & 0xFE) | int(binary_secret_text[index])\n",
        "\t\t\t\tindex += 1\n",
        "\t\t\tif index < len(binary_secret_text):\n",
        "\t\t\t\tg = (g & 0xFE) | int(binary_secret_text[index])\n",
        "\t\t\t\tindex += 1\n",
        "\t\t\tif index < len(binary_secret_text):\n",
        "\t\t\t\tb = (b & 0xFE) | int(binary_secret_text[index])\n",
        "\t\t\t\tindex += 1\n",
        "\n",
        "\t\t\tpixels[i, j] = (r, g, b)\n",
        "\n",
        "\t# Save the image with the hidden secret text\n",
        "\timage.save(output_path)\n",
        "\n",
        "def extract_text(image_path):\n",
        "\t# Open the image\n",
        "\timage = Image.open(image_path)\n",
        "\n",
        "\t# Extract the secret text from the image\n",
        "\tpixels = image.load()\n",
        "\tbinary_secret_text = \"\"\n",
        "\tfor i in range(image.width):\n",
        "\t\tfor j in range(image.height):\n",
        "\t\t\tr, g, b = pixels[i, j]\n",
        "\n",
        "\t\t\t# Extract the least significant bit of each color channel\n",
        "\t\t\tbinary_secret_text += str(r & 1)\n",
        "\t\t\tbinary_secret_text += str(g & 1)\n",
        "\t\t\tbinary_secret_text += str(b & 1)\n",
        "\n",
        "\t# Convert the binary text to ASCII\n",
        "\tsecret_text = \"\"\n",
        "\tfor i in range(0, len(binary_secret_text), 8):\n",
        "\t\tchar = chr(int(binary_secret_text[i:i+8], 2))\n",
        "\t\tsecret_text += char\n",
        "\n",
        "\treturn secret_text"
      ],
      "metadata": {
        "id": "yRV9kzmGR4__"
      },
      "execution_count": null,
      "outputs": []
    },
    {
      "cell_type": "code",
      "source": [
        "image_path = 'image.jpg'\n",
        "secret_text = 'This is a secret message.'\n",
        "output_path = 'output_image.jpg'\n",
        "hide_text(image_path, secret_text, output_path)"
      ],
      "metadata": {
        "id": "sNdWKs-eR804"
      },
      "execution_count": null,
      "outputs": []
    },
    {
      "cell_type": "code",
      "source": [
        "extracted_text = extract_text(output_path)\n",
        "print(\"Extracted text:\", extracted_text)"
      ],
      "metadata": {
        "id": "YHNmI7m3SG54"
      },
      "execution_count": null,
      "outputs": []
    }
  ]
}