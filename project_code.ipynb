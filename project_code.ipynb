{
  "nbformat": 4,
  "nbformat_minor": 0,
  "metadata": {
    "colab": {
      "provenance": [],
      "authorship_tag": "ABX9TyP8VfILtAmSKkKqjoUYOGeh"
    },
    "kernelspec": {
      "name": "python3",
      "display_name": "Python 3"
    },
    "language_info": {
      "name": "python"
    }
  },
  "cells": [
    {
      "cell_type": "code",
      "execution_count": 1,
      "metadata": {
        "colab": {
          "base_uri": "https://localhost:8080/"
        },
        "id": "oJ0lk9lH15p_",
        "outputId": "501e230b-67a6-4c3e-ee93-5f456e6a0cab"
      },
      "outputs": [
        {
          "output_type": "stream",
          "name": "stdout",
          "text": [
            "Requirement already satisfied: pillow in /usr/local/lib/python3.11/dist-packages (11.1.0)\n"
          ]
        }
      ],
      "source": [
        "pip install pillow"
      ]
    },
    {
      "cell_type": "code",
      "source": [
        "# Python program implementing Image Steganography\n",
        "\n",
        "# PIL module is used to extract\n",
        "# pixels of image and modify it\n",
        "from PIL import Image\n",
        "\n",
        "# Convert encoding data into 8-bit binary\n",
        "# form using ASCII value of characters\n",
        "def genData(data):\n",
        "\n",
        "        # list of binary codes\n",
        "        # of given data\n",
        "        newd = []\n",
        "\n",
        "        for i in data:\n",
        "            newd.append(format(ord(i), '08b'))\n",
        "        return newd\n",
        "\n",
        "# Pixels are modified according to the\n",
        "# 8-bit binary data and finally returned\n",
        "def modPix(pix, data):\n",
        "\n",
        "    datalist = genData(data)\n",
        "    lendata = len(datalist)\n",
        "    imdata = iter(pix)\n",
        "\n",
        "    for i in range(lendata):\n",
        "\n",
        "        # Extracting 3 pixels at a time\n",
        "        pix = [value for value in imdata.__next__()[:3] +\n",
        "                                imdata.__next__()[:3] +\n",
        "                                imdata.__next__()[:3]]\n",
        "\n",
        "        # Pixel value should be made\n",
        "        # odd for 1 and even for 0\n",
        "        for j in range(0, 8):\n",
        "            if (datalist[i][j] == '0' and pix[j]% 2 != 0):\n",
        "                pix[j] -= 1\n",
        "\n",
        "            elif (datalist[i][j] == '1' and pix[j] % 2 == 0):\n",
        "                if(pix[j] != 0):\n",
        "                    pix[j] -= 1\n",
        "                else:\n",
        "                    pix[j] += 1\n",
        "                # pix[j] -= 1\n",
        "\n",
        "        # Eighth pixel of every set tells\n",
        "        # whether to stop ot read further.\n",
        "        # 0 means keep reading; 1 means thec\n",
        "        # message is over.\n",
        "        if (i == lendata - 1):\n",
        "            if (pix[-1] % 2 == 0):\n",
        "                if(pix[-1] != 0):\n",
        "                    pix[-1] -= 1\n",
        "                else:\n",
        "                    pix[-1] += 1\n",
        "\n",
        "        else:\n",
        "            if (pix[-1] % 2 != 0):\n",
        "                pix[-1] -= 1\n",
        "\n",
        "        pix = tuple(pix)\n",
        "        yield pix[0:3]\n",
        "        yield pix[3:6]\n",
        "        yield pix[6:9]\n",
        "\n",
        "def encode_enc(newimg, data):\n",
        "    w = newimg.size[0]\n",
        "    (x, y) = (0, 0)\n",
        "\n",
        "    for pixel in modPix(newimg.getdata(), data):\n",
        "\n",
        "        # Putting modified pixels in the new image\n",
        "        newimg.putpixel((x, y), pixel)\n",
        "        if (x == w - 1):\n",
        "            x = 0\n",
        "            y += 1\n",
        "        else:\n",
        "            x += 1\n",
        "\n",
        "# Encode data into image\n",
        "def encode():\n",
        "    img = input(\"Enter image name(with extension) : \")\n",
        "    image = Image.open(img, 'r')\n",
        "\n",
        "    data = input(\"Enter data to be encoded : \")\n",
        "    if (len(data) == 0):\n",
        "        raise ValueError('Data is empty')\n",
        "\n",
        "    newimg = image.copy()\n",
        "    encode_enc(newimg, data)\n",
        "\n",
        "    new_img_name = input(\"Enter the name of new image(with extension) : \")\n",
        "    newimg.save(new_img_name, str(new_img_name.split(\".\")[1].upper()))\n",
        "\n",
        "# Decode the data in the image\n",
        "def decode():\n",
        "    img = input(\"Enter image name(with extension) : \")\n",
        "    image = Image.open(img, 'r')\n",
        "\n",
        "    data = ''\n",
        "    imgdata = iter(image.getdata())\n",
        "\n",
        "    while (True):\n",
        "        pixels = [value for value in imgdata.__next__()[:3] +\n",
        "                                imgdata.__next__()[:3] +\n",
        "                                imgdata.__next__()[:3]]\n",
        "\n",
        "        # string of binary data\n",
        "        binstr = ''\n",
        "\n",
        "        for i in pixels[:8]:\n",
        "            if (i % 2 == 0):\n",
        "                binstr += '0'\n",
        "            else:\n",
        "                binstr += '1'\n",
        "\n",
        "        data += chr(int(binstr, 2))\n",
        "        if (pixels[-1] % 2 != 0):\n",
        "            return data\n",
        "\n",
        "# Main Function\n",
        "def main():\n",
        "    a = int(input(\":: Welcome to Steganography ::\\n\"\n",
        "                        \"1. Encode\\n2. Decode\\n\"))\n",
        "    if (a == 1):\n",
        "        encode()\n",
        "\n",
        "    elif (a == 2):\n",
        "        print(\"Decoded Word :  \" + decode())\n",
        "    else:\n",
        "        raise Exception(\"Enter correct input\")\n",
        "\n",
        "# Driver Code\n",
        "if __name__ == '__main__' :\n",
        "\n",
        "    # Calling main function\n",
        "    main()"
      ],
      "metadata": {
        "colab": {
          "base_uri": "https://localhost:8080/",
          "height": 965
        },
        "id": "1qJRMCGb4uO0",
        "outputId": "2408f5ae-6817-4871-ef0d-e217064d77a0"
      },
      "execution_count": 2,
      "outputs": [
        {
          "name": "stdout",
          "output_type": "stream",
          "text": [
            ":: Welcome to Steganography ::\n",
            "1. Encode\n",
            "2. Decode\n",
            "1\n",
            "Enter image name(with extension) : dragon.jpg\n"
          ]
        },
        {
          "output_type": "error",
          "ename": "FileNotFoundError",
          "evalue": "[Errno 2] No such file or directory: 'dragon.jpg'",
          "traceback": [
            "\u001b[0;31m---------------------------------------------------------------------------\u001b[0m",
            "\u001b[0;31mFileNotFoundError\u001b[0m                         Traceback (most recent call last)",
            "\u001b[0;32m<ipython-input-2-96d025077442>\u001b[0m in \u001b[0;36m<cell line: 0>\u001b[0;34m()\u001b[0m\n\u001b[1;32m    136\u001b[0m \u001b[0;34m\u001b[0m\u001b[0m\n\u001b[1;32m    137\u001b[0m     \u001b[0;31m# Calling main function\u001b[0m\u001b[0;34m\u001b[0m\u001b[0;34m\u001b[0m\u001b[0m\n\u001b[0;32m--> 138\u001b[0;31m     \u001b[0mmain\u001b[0m\u001b[0;34m(\u001b[0m\u001b[0;34m)\u001b[0m\u001b[0;34m\u001b[0m\u001b[0;34m\u001b[0m\u001b[0m\n\u001b[0m",
            "\u001b[0;32m<ipython-input-2-96d025077442>\u001b[0m in \u001b[0;36mmain\u001b[0;34m()\u001b[0m\n\u001b[1;32m    125\u001b[0m                         \"1. Encode\\n2. Decode\\n\"))\n\u001b[1;32m    126\u001b[0m     \u001b[0;32mif\u001b[0m \u001b[0;34m(\u001b[0m\u001b[0ma\u001b[0m \u001b[0;34m==\u001b[0m \u001b[0;36m1\u001b[0m\u001b[0;34m)\u001b[0m\u001b[0;34m:\u001b[0m\u001b[0;34m\u001b[0m\u001b[0;34m\u001b[0m\u001b[0m\n\u001b[0;32m--> 127\u001b[0;31m         \u001b[0mencode\u001b[0m\u001b[0;34m(\u001b[0m\u001b[0;34m)\u001b[0m\u001b[0;34m\u001b[0m\u001b[0;34m\u001b[0m\u001b[0m\n\u001b[0m\u001b[1;32m    128\u001b[0m \u001b[0;34m\u001b[0m\u001b[0m\n\u001b[1;32m    129\u001b[0m     \u001b[0;32melif\u001b[0m \u001b[0;34m(\u001b[0m\u001b[0ma\u001b[0m \u001b[0;34m==\u001b[0m \u001b[0;36m2\u001b[0m\u001b[0;34m)\u001b[0m\u001b[0;34m:\u001b[0m\u001b[0;34m\u001b[0m\u001b[0;34m\u001b[0m\u001b[0m\n",
            "\u001b[0;32m<ipython-input-2-96d025077442>\u001b[0m in \u001b[0;36mencode\u001b[0;34m()\u001b[0m\n\u001b[1;32m     82\u001b[0m \u001b[0;32mdef\u001b[0m \u001b[0mencode\u001b[0m\u001b[0;34m(\u001b[0m\u001b[0;34m)\u001b[0m\u001b[0;34m:\u001b[0m\u001b[0;34m\u001b[0m\u001b[0;34m\u001b[0m\u001b[0m\n\u001b[1;32m     83\u001b[0m     \u001b[0mimg\u001b[0m \u001b[0;34m=\u001b[0m \u001b[0minput\u001b[0m\u001b[0;34m(\u001b[0m\u001b[0;34m\"Enter image name(with extension) : \"\u001b[0m\u001b[0;34m)\u001b[0m\u001b[0;34m\u001b[0m\u001b[0;34m\u001b[0m\u001b[0m\n\u001b[0;32m---> 84\u001b[0;31m     \u001b[0mimage\u001b[0m \u001b[0;34m=\u001b[0m \u001b[0mImage\u001b[0m\u001b[0;34m.\u001b[0m\u001b[0mopen\u001b[0m\u001b[0;34m(\u001b[0m\u001b[0mimg\u001b[0m\u001b[0;34m,\u001b[0m \u001b[0;34m'r'\u001b[0m\u001b[0;34m)\u001b[0m\u001b[0;34m\u001b[0m\u001b[0;34m\u001b[0m\u001b[0m\n\u001b[0m\u001b[1;32m     85\u001b[0m \u001b[0;34m\u001b[0m\u001b[0m\n\u001b[1;32m     86\u001b[0m     \u001b[0mdata\u001b[0m \u001b[0;34m=\u001b[0m \u001b[0minput\u001b[0m\u001b[0;34m(\u001b[0m\u001b[0;34m\"Enter data to be encoded : \"\u001b[0m\u001b[0;34m)\u001b[0m\u001b[0;34m\u001b[0m\u001b[0;34m\u001b[0m\u001b[0m\n",
            "\u001b[0;32m/usr/local/lib/python3.11/dist-packages/PIL/Image.py\u001b[0m in \u001b[0;36mopen\u001b[0;34m(fp, mode, formats)\u001b[0m\n\u001b[1;32m   3463\u001b[0m \u001b[0;34m\u001b[0m\u001b[0m\n\u001b[1;32m   3464\u001b[0m     \u001b[0;32mif\u001b[0m \u001b[0mfilename\u001b[0m\u001b[0;34m:\u001b[0m\u001b[0;34m\u001b[0m\u001b[0;34m\u001b[0m\u001b[0m\n\u001b[0;32m-> 3465\u001b[0;31m         \u001b[0mfp\u001b[0m \u001b[0;34m=\u001b[0m \u001b[0mbuiltins\u001b[0m\u001b[0;34m.\u001b[0m\u001b[0mopen\u001b[0m\u001b[0;34m(\u001b[0m\u001b[0mfilename\u001b[0m\u001b[0;34m,\u001b[0m \u001b[0;34m\"rb\"\u001b[0m\u001b[0;34m)\u001b[0m\u001b[0;34m\u001b[0m\u001b[0;34m\u001b[0m\u001b[0m\n\u001b[0m\u001b[1;32m   3466\u001b[0m         \u001b[0mexclusive_fp\u001b[0m \u001b[0;34m=\u001b[0m \u001b[0;32mTrue\u001b[0m\u001b[0;34m\u001b[0m\u001b[0;34m\u001b[0m\u001b[0m\n\u001b[1;32m   3467\u001b[0m     \u001b[0;32melse\u001b[0m\u001b[0;34m:\u001b[0m\u001b[0;34m\u001b[0m\u001b[0;34m\u001b[0m\u001b[0m\n",
            "\u001b[0;31mFileNotFoundError\u001b[0m: [Errno 2] No such file or directory: 'dragon.jpg'"
          ]
        }
      ]
    }
  ]
}